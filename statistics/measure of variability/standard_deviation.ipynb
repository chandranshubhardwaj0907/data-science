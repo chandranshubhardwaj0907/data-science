{
 "cells": [
  {
   "cell_type": "code",
   "execution_count": 1,
   "id": "fd9dc1b7",
   "metadata": {},
   "outputs": [],
   "source": [
    "import pandas as pd \n",
    "import numpy as np\n",
    "import matplotlib.pyplot as plt\n",
    "import seaborn as sns\n"
   ]
  },
  {
   "cell_type": "code",
   "execution_count": 2,
   "id": "91f46263",
   "metadata": {},
   "outputs": [],
   "source": [
    "seca = np.array([75,65,73,68,72,76])\n",
    "secb = np.array([90,47,43,96,93,51])"
   ]
  },
  {
   "cell_type": "code",
   "execution_count": 3,
   "id": "014b2d65",
   "metadata": {},
   "outputs": [
    {
     "data": {
      "text/plain": [
       "(np.float64(3.8622100754188224), np.float64(23.18045153428495))"
      ]
     },
     "execution_count": 3,
     "metadata": {},
     "output_type": "execute_result"
    }
   ],
   "source": [
    "np.std(seca) , np.std(secb)"
   ]
  },
  {
   "cell_type": "code",
   "execution_count": 4,
   "id": "6353289e",
   "metadata": {},
   "outputs": [
    {
     "data": {
      "text/plain": [
       "(np.float64(14.916666666666666), np.float64(537.3333333333334))"
      ]
     },
     "execution_count": 4,
     "metadata": {},
     "output_type": "execute_result"
    }
   ],
   "source": [
    "np.var(seca) , np.var(secb)"
   ]
  }
 ],
 "metadata": {
  "kernelspec": {
   "display_name": "Python 3",
   "language": "python",
   "name": "python3"
  },
  "language_info": {
   "codemirror_mode": {
    "name": "ipython",
    "version": 3
   },
   "file_extension": ".py",
   "mimetype": "text/x-python",
   "name": "python",
   "nbconvert_exporter": "python",
   "pygments_lexer": "ipython3",
   "version": "3.13.5"
  }
 },
 "nbformat": 4,
 "nbformat_minor": 5
}
