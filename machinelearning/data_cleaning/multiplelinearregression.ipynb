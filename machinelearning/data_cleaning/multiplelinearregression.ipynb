{
 "cells": [
  {
   "cell_type": "code",
   "execution_count": 1,
   "id": "eeb30bf3",
   "metadata": {},
   "outputs": [
    {
     "name": "stdout",
     "output_type": "stream",
     "text": [
      "Predicted Prices: [256107.04960835 221258.48563969]\n",
      "R² Score: -496.53247499464806\n"
     ]
    }
   ],
   "source": [
    "import pandas as pd\n",
    "from sklearn.linear_model import LinearRegression\n",
    "from sklearn.model_selection import train_test_split\n",
    "from sklearn.metrics import r2_score\n",
    "\n",
    "# Create dataset\n",
    "data = {\n",
    "    'Area_sqft': [1400, 1600, 1700, 1875, 1100, 1550, 2350, 2450, 1425, 1700],\n",
    "    'Bedrooms': [3, 3, 3, 4, 2, 3, 4, 4, 3, 3],\n",
    "    'Bathrooms': [2, 2, 2, 2, 1, 2, 3, 3, 2, 2],\n",
    "    'Stories': [1, 2, 2, 2, 1, 2, 2, 3, 1, 2],\n",
    "    'Age_of_House': [5, 7, 10, 12, 3, 8, 15, 18, 4, 9],\n",
    "    'Price': [245000, 312000, 279000, 308000, 199000, 219000, 405000, 324000, 319000, 255000]\n",
    "}\n",
    "\n",
    "df = pd.DataFrame(data)\n",
    "\n",
    "# Independent and dependent variables\n",
    "X = df[['Area_sqft', 'Bedrooms', 'Bathrooms', 'Stories', 'Age_of_House']]\n",
    "y = df['Price']\n",
    "\n",
    "# ✅ Correct train-test split\n",
    "X_train, X_test, y_train, y_test = train_test_split(X, y, test_size=0.2, random_state=42)\n",
    "\n",
    "# Train the model\n",
    "lmr = LinearRegression()\n",
    "lmr.fit(X_train, y_train)\n",
    "\n",
    "# Predict\n",
    "y_pred = lmr.predict(X_test)\n",
    "\n",
    "# Evaluate\n",
    "print(\"Predicted Prices:\", y_pred)\n",
    "print(\"R² Score:\", r2_score(y_test, y_pred))\n"
   ]
  }
 ],
 "metadata": {
  "kernelspec": {
   "display_name": "Python 3",
   "language": "python",
   "name": "python3"
  },
  "language_info": {
   "codemirror_mode": {
    "name": "ipython",
    "version": 3
   },
   "file_extension": ".py",
   "mimetype": "text/x-python",
   "name": "python",
   "nbconvert_exporter": "python",
   "pygments_lexer": "ipython3",
   "version": "3.13.5"
  }
 },
 "nbformat": 4,
 "nbformat_minor": 5
}
